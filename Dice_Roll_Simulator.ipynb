{
  "nbformat": 4,
  "nbformat_minor": 0,
  "metadata": {
    "colab": {
      "name": "Dice_Roll_Simulator.ipynb",
      "provenance": [],
      "authorship_tag": "ABX9TyNFeAplovT+vFvdxuKdNp3f",
      "include_colab_link": true
    },
    "kernelspec": {
      "name": "python3",
      "display_name": "Python 3"
    },
    "language_info": {
      "name": "python"
    }
  },
  "cells": [
    {
      "cell_type": "markdown",
      "metadata": {
        "id": "view-in-github",
        "colab_type": "text"
      },
      "source": [
        "<a href=\"https://colab.research.google.com/github/sharmaparnika/Dice_Roll_Simulator/blob/main/Dice_Roll_Simulator.ipynb\" target=\"_parent\"><img src=\"https://colab.research.google.com/assets/colab-badge.svg\" alt=\"Open In Colab\"/></a>"
      ]
    },
    {
      "cell_type": "code",
      "execution_count": 2,
      "metadata": {
        "colab": {
          "base_uri": "https://localhost:8080/"
        },
        "id": "PcLee2f9GR3J",
        "outputId": "5d8ea371-b47f-435e-da24-a3eeb5ab3cb4"
      },
      "outputs": [
        {
          "name": "stdout",
          "output_type": "stream",
          "text": [
            "Rolling The Dices...\n",
            "The Values are :\n",
            "2\n",
            "6\n",
            "Roll the Dices Again?yes\n",
            "Rolling The Dices...\n",
            "The Values are :\n",
            "2\n",
            "6\n",
            "Roll the Dices Again?no\n"
          ]
        }
      ],
      "source": [
        "import random\n",
        "\n",
        "#range of the values of a dice\n",
        "min_val = 1\n",
        "max_val = 6\n",
        "\n",
        "#to loop the rolling through user input\n",
        "roll_again = \"yes\"\n",
        "\n",
        "#loop\n",
        "while roll_again == \"yes\" or roll_again == \"y\":\n",
        "    print(\"Rolling The Dices...\")\n",
        "    print(\"The Values are :\")\n",
        "    \n",
        "    #generating and printing 1st random integer from 1 to 6\n",
        "    print(random.randint(min_val, max_val))\n",
        "    \n",
        "    #generating and printing 2nd random integer from 1 to 6\n",
        "    print(random.randint(min_val, max_val))\n",
        "    \n",
        "    #asking user to roll the dice again. Any input other than yes or y will terminate the loop\n",
        "    roll_again = input(\"Roll the Dices Again?\") "
      ]
    }
  ]
}